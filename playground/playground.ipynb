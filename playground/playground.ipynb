{
 "cells": [
  {
   "cell_type": "markdown",
   "source": [
    "Create Run Engine"
   ],
   "metadata": {
    "collapsed": false
   }
  },
  {
   "cell_type": "code",
   "execution_count": 1,
   "outputs": [],
   "source": [
    "from bluesky import RunEngine\n",
    "RE = RunEngine({})"
   ],
   "metadata": {
    "collapsed": false,
    "ExecuteTime": {
     "start_time": "2023-04-14T15:23:01.749893Z",
     "end_time": "2023-04-14T15:23:02.417180Z"
    }
   }
  },
  {
   "cell_type": "markdown",
   "source": [
    "Prepare Live Visualization"
   ],
   "metadata": {
    "collapsed": false
   }
  },
  {
   "cell_type": "code",
   "execution_count": 2,
   "outputs": [
    {
     "ename": "NotImplementedError",
     "evalue": "The matplotlib backend module://matplotlib_inline.backend_inline is not yet supported.",
     "output_type": "error",
     "traceback": [
      "\u001B[0;31m---------------------------------------------------------------------------\u001B[0m",
      "\u001B[0;31mNotImplementedError\u001B[0m                       Traceback (most recent call last)",
      "Cell \u001B[0;32mIn[2], line 10\u001B[0m\n\u001B[1;32m      7\u001B[0m \u001B[38;5;66;03m# Make plots update live while scans run.\u001B[39;00m\n\u001B[1;32m      8\u001B[0m \u001B[38;5;66;03m# Running this in iPython it says that it is not longer necessary\u001B[39;00m\n\u001B[1;32m      9\u001B[0m \u001B[38;5;28;01mfrom\u001B[39;00m \u001B[38;5;21;01mbluesky\u001B[39;00m\u001B[38;5;21;01m.\u001B[39;00m\u001B[38;5;21;01mutils\u001B[39;00m \u001B[38;5;28;01mimport\u001B[39;00m install_kicker\n\u001B[0;32m---> 10\u001B[0m \u001B[43minstall_kicker\u001B[49m\u001B[43m(\u001B[49m\u001B[43m)\u001B[49m\n",
      "File \u001B[0;32m~/opt/anaconda3/envs/autocontrol/lib/python3.9/site-packages/bluesky/utils/__init__.py:916\u001B[0m, in \u001B[0;36minstall_kicker\u001B[0;34m(loop, update_rate)\u001B[0m\n\u001B[1;32m    914\u001B[0m     install_qt_kicker(loop\u001B[38;5;241m=\u001B[39mloop, update_rate\u001B[38;5;241m=\u001B[39mupdate_rate)\n\u001B[1;32m    915\u001B[0m \u001B[38;5;28;01melse\u001B[39;00m:\n\u001B[0;32m--> 916\u001B[0m     \u001B[38;5;28;01mraise\u001B[39;00m \u001B[38;5;167;01mNotImplementedError\u001B[39;00m(\u001B[38;5;124m\"\u001B[39m\u001B[38;5;124mThe matplotlib backend \u001B[39m\u001B[38;5;132;01m{}\u001B[39;00m\u001B[38;5;124m is not yet \u001B[39m\u001B[38;5;124m\"\u001B[39m\n\u001B[1;32m    917\u001B[0m                               \u001B[38;5;124m\"\u001B[39m\u001B[38;5;124msupported.\u001B[39m\u001B[38;5;124m\"\u001B[39m\u001B[38;5;241m.\u001B[39mformat(backend))\n",
      "\u001B[0;31mNotImplementedError\u001B[0m: The matplotlib backend module://matplotlib_inline.backend_inline is not yet supported."
     ]
    }
   ],
   "source": [
    "from bluesky.callbacks.best_effort import BestEffortCallback\n",
    "bec = BestEffortCallback()\n",
    "\n",
    "# Send all metadata/data captured to the BestEffortCallback.\n",
    "RE.subscribe(bec)\n",
    "\n",
    "# Make plots update live while scans run.\n",
    "# Running this in iPython it says that it is not longer necessary\n",
    "from bluesky.utils import install_kicker\n",
    "install_kicker()"
   ],
   "metadata": {
    "collapsed": false
   }
  },
  {
   "cell_type": "markdown",
   "source": [
    "Prepare Data Storage"
   ],
   "metadata": {
    "collapsed": false
   }
  },
  {
   "cell_type": "code",
   "execution_count": 3,
   "outputs": [
    {
     "data": {
      "text/plain": "1"
     },
     "execution_count": 3,
     "metadata": {},
     "output_type": "execute_result"
    }
   ],
   "source": [
    "from databroker import Broker\n",
    "db = Broker.named('temp')\n",
    "\n",
    "# Insert all metadata/data captured into db.\n",
    "RE.subscribe(db.insert)"
   ],
   "metadata": {
    "collapsed": false,
    "ExecuteTime": {
     "start_time": "2023-04-14T15:23:20.922857Z",
     "end_time": "2023-04-14T15:23:22.324487Z"
    }
   }
  },
  {
   "cell_type": "markdown",
   "source": [
    "Add a Progress Bar"
   ],
   "metadata": {
    "collapsed": false
   }
  },
  {
   "cell_type": "code",
   "execution_count": 4,
   "outputs": [],
   "source": [
    "from bluesky.utils import ProgressBarManager\n",
    "RE.waiting_hook = ProgressBarManager()"
   ],
   "metadata": {
    "collapsed": false,
    "ExecuteTime": {
     "start_time": "2023-04-14T15:23:24.943965Z",
     "end_time": "2023-04-14T15:23:24.947173Z"
    }
   }
  },
  {
   "cell_type": "markdown",
   "source": [
    "Read Some Detectors"
   ],
   "metadata": {
    "collapsed": false
   }
  },
  {
   "cell_type": "code",
   "execution_count": 5,
   "outputs": [],
   "source": [
    "from ophyd.sim import det1, det2  # two simulated detectors\n",
    "from bluesky.plans import count\n",
    "dets = [det1, det2]   # a list of any number of detectors\n"
   ],
   "metadata": {
    "collapsed": false,
    "ExecuteTime": {
     "start_time": "2023-04-14T15:23:26.317372Z",
     "end_time": "2023-04-14T15:23:26.323841Z"
    }
   }
  },
  {
   "cell_type": "code",
   "execution_count": 6,
   "outputs": [
    {
     "name": "stdout",
     "output_type": "stream",
     "text": [
      "\n",
      "\n",
      "Transient Scan ID: 1     Time: 2023-04-14 15:23:27\n",
      "Persistent Unique Scan ID: '05fbed0c-e460-4ba9-8376-5c08ad6434be'\n",
      "New stream: 'primary'\n",
      "+-----------+------------+------------+------------+\n",
      "|   seq_num |       time |       det2 |       det1 |\n",
      "+-----------+------------+------------+------------+\n",
      "|         1 | 15:23:27.9 |      1.765 |      5.000 |\n",
      "+-----------+------------+------------+------------+\n",
      "generator count ['05fbed0c'] (scan num: 1)\n",
      "\n",
      "\n",
      "\n"
     ]
    },
    {
     "data": {
      "text/plain": "('05fbed0c-e460-4ba9-8376-5c08ad6434be',)"
     },
     "execution_count": 6,
     "metadata": {},
     "output_type": "execute_result"
    }
   ],
   "source": [
    "RE(count(dets))"
   ],
   "metadata": {
    "collapsed": false,
    "ExecuteTime": {
     "start_time": "2023-04-14T15:23:27.922571Z",
     "end_time": "2023-04-14T15:23:28.076126Z"
    }
   }
  },
  {
   "cell_type": "code",
   "execution_count": 7,
   "outputs": [
    {
     "name": "stdout",
     "output_type": "stream",
     "text": [
      "\n",
      "\n",
      "Transient Scan ID: 2     Time: 2023-04-14 15:23:45\n",
      "Persistent Unique Scan ID: '22a5b8a4-832b-47df-8149-507fa274ddd3'\n",
      "New stream: 'primary'\n",
      "+-----------+------------+------------+------------+\n",
      "|   seq_num |       time |      motor |        det |\n",
      "+-----------+------------+------------+------------+\n",
      "|         1 | 15:23:46.0 |     -1.000 |      0.607 |\n",
      "|         2 | 15:23:46.1 |     -0.778 |      0.739 |\n",
      "|         3 | 15:23:46.1 |     -0.556 |      0.857 |\n",
      "|         4 | 15:23:46.2 |     -0.333 |      0.946 |\n",
      "|         5 | 15:23:46.2 |     -0.111 |      0.994 |\n",
      "|         6 | 15:23:46.2 |      0.111 |      0.994 |\n",
      "|         7 | 15:23:46.3 |      0.333 |      0.946 |\n",
      "|         8 | 15:23:46.3 |      0.556 |      0.857 |\n",
      "|         9 | 15:23:46.4 |      0.778 |      0.739 |\n",
      "|        10 | 15:23:46.4 |      1.000 |      0.607 |\n",
      "+-----------+------------+------------+------------+\n",
      "generator scan ['22a5b8a4'] (scan num: 2)\n",
      "\n",
      "\n",
      "\n"
     ]
    },
    {
     "data": {
      "text/plain": "('22a5b8a4-832b-47df-8149-507fa274ddd3',)"
     },
     "execution_count": 7,
     "metadata": {},
     "output_type": "execute_result"
    },
    {
     "data": {
      "text/plain": "<Figure size 500x500 with 1 Axes>",
      "image/png": "[encoded data removed]"
     },
     "metadata": {},
     "output_type": "display_data"
    }
   ],
   "source": [
    "    from ophyd.sim import det, motor\n",
    "    from bluesky.plans import scan\n",
    "\n",
    "    dets = [det]  # just one in this case, but it could be more than one\n",
    "\n",
    "    RE(scan(dets, motor, -1, 1, 10))"
   ],
   "metadata": {
    "collapsed": false,
    "ExecuteTime": {
     "start_time": "2023-04-14T15:23:45.944324Z",
     "end_time": "2023-04-14T15:23:46.761462Z"
    }
   }
  },
  {
   "cell_type": "code",
   "execution_count": null,
   "outputs": [],
   "source": [],
   "metadata": {
    "collapsed": false
   }
  }
 ],
 "metadata": {
  "kernelspec": {
   "display_name": "Python 3",
   "language": "python",
   "name": "python3"
  },
  "language_info": {
   "codemirror_mode": {
    "name": "ipython",
    "version": 2
   },
   "file_extension": ".py",
   "mimetype": "text/x-python",
   "name": "python",
   "nbconvert_exporter": "python",
   "pygments_lexer": "ipython2",
   "version": "2.7.6"
  }
 },
 "nbformat": 4,
 "nbformat_minor": 0
}
